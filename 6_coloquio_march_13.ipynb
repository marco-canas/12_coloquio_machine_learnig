{
 "cells": [
  {
   "cell_type": "markdown",
   "id": "149fb63f",
   "metadata": {
    "slideshow": {
     "slide_type": "slide"
    }
   },
   "source": [
    "<table align=\"left\">\n",
    "  <td>\n",
    "    <a href=\"https://colab.research.google.com/github/marco-canas/didactica_ciencia_datos/blob/main/propuesta/unidad_didac/0_python/2_estructuras_datos/2_tuplas/tuplas.ipynb\" target=\"_parent\"><img src=\"https://colab.research.google.com/assets/colab-badge.svg\" alt=\"Open In Colab\"/></a>\n",
    "  </td>\n",
    "</table>"
   ]
  },
  {
   "cell_type": "markdown",
   "id": "6120717f",
   "metadata": {
    "slideshow": {
     "slide_type": "slide"
    }
   },
   "source": [
    "## [Video de apoyo]()"
   ]
  },
  {
   "cell_type": "markdown",
   "id": "31ad3b50",
   "metadata": {
    "slideshow": {
     "slide_type": "slide"
    }
   },
   "source": [
    "# Ventajas de flipped classroom  \n",
    "\n",
    "Los estudiantes mostraran más interés y se sentirán más comprometidos. En definitiva, el individuo se convierte en el protagonista de su aprendizaje.\n",
    "El uso del vídeo proporciona una serie de ventajas tales como la posibilidad de visualizar los\n",
    "contenidos tantas veces como se desee, permite actualizar el contenido constantemente, posibilita\n",
    "su uso en los años siguientes y, probablemente, hablemos de uno de los recursos más dinámicos\n",
    "que existen (Lara y Rivas, 2009). Para el alumnado con diversidad funcional, el vídeo se considera\n",
    "como una herramienta de apoyo a los procesos de enseñanza–aprendizaje diario para trabajar dife\u0002rentes áreas del lenguaje verbal y no verbal, así como el desarrollo de habilidades sociales. La utili\u0002zación de esta herramienta visual, tendrá que realizarse, adaptándose a las características indivi\u0002duales de cada alumno/a y teniendo en cuenta sus intereses y necesidades."
   ]
  },
  {
   "cell_type": "markdown",
   "id": "4de930f2",
   "metadata": {
    "slideshow": {
     "slide_type": "slide"
    }
   },
   "source": [
    "# Sobre la ansiedad generalizada  \n",
    "\n",
    "...La norma está al servicio del bienestar de mi esposa y mis estudiantes.. (Hermana Glenda)\n",
    "\n",
    "En este mundo creado por extremos y progresivamente inclinado hacia ellos, mi llamada a la movilización, expresada en <<Who's with me?>>¡¿Quién está conmigo?!, se remonta a lo que el doctor Martin Luther King jr. y otros muchos han intentado introducir en nuestros duros cráneos: utiliza tu cerebro. ¿Qu+e tipo de extremistas prefieres ser?¿Puedes aprovechar tus capacidades innatas para la bondad y la curiosidad a fin de construir una vida y un mundo mejor? ¿O te dejarás arrastar por la ola de miedo y egoísmo? Si no quieres acabar en el mar, dejando tras de tí un rastro de lágrimas ( a sabiendas o ignorándolo), recuerda que debes anclar tu conciencia y prestar atención a los resultados de tus actos. "
   ]
  },
  {
   "cell_type": "markdown",
   "id": "f2845afc",
   "metadata": {
    "slideshow": {
     "slide_type": "slide"
    }
   },
   "source": [
    "# 6 Coloquio Marzo 13 de 2023"
   ]
  },
  {
   "cell_type": "markdown",
   "id": "b5a54da1",
   "metadata": {
    "slideshow": {
     "slide_type": "slide"
    }
   },
   "source": [
    "## West Mckinney"
   ]
  },
  {
   "cell_type": "markdown",
   "id": "968652f0",
   "metadata": {
    "slideshow": {
     "slide_type": "slide"
    }
   },
   "source": [
    "## Mutable and immutable objects"
   ]
  },
  {
   "cell_type": "markdown",
   "id": "366fa42c",
   "metadata": {
    "slideshow": {
     "slide_type": "slide"
    }
   },
   "source": [
    "Most objects in Python, such as lists, dicts, NumPy arrays, and most user-defined types (classes), are mutable. This means that the object or values that they contain can be modified:"
   ]
  },
  {
   "cell_type": "code",
   "execution_count": 2,
   "id": "75e560e4",
   "metadata": {
    "slideshow": {
     "slide_type": "slide"
    }
   },
   "outputs": [],
   "source": [
    "a_list = ['foo', 2, [4, 5]]"
   ]
  },
  {
   "cell_type": "code",
   "execution_count": 3,
   "id": "fbb22234",
   "metadata": {
    "slideshow": {
     "slide_type": "slide"
    }
   },
   "outputs": [],
   "source": [
    "a_list[2] = (3, 4)"
   ]
  },
  {
   "cell_type": "code",
   "execution_count": 4,
   "id": "3a46e489",
   "metadata": {
    "slideshow": {
     "slide_type": "slide"
    }
   },
   "outputs": [
    {
     "data": {
      "text/plain": [
       "['foo', 2, (3, 4)]"
      ]
     },
     "execution_count": 4,
     "metadata": {},
     "output_type": "execute_result"
    }
   ],
   "source": [
    "a_list"
   ]
  },
  {
   "cell_type": "markdown",
   "id": "7b931b1e",
   "metadata": {
    "slideshow": {
     "slide_type": "slide"
    }
   },
   "source": [
    "\n",
    "Others, like strings and tuples, are immutable:"
   ]
  },
  {
   "cell_type": "code",
   "execution_count": 18,
   "id": "5e42b2c0",
   "metadata": {
    "slideshow": {
     "slide_type": "slide"
    }
   },
   "outputs": [
    {
     "ename": "TypeError",
     "evalue": "'tuple' object does not support item assignment",
     "output_type": "error",
     "traceback": [
      "\u001b[1;31m---------------------------------------------------------------------------\u001b[0m",
      "\u001b[1;31mTypeError\u001b[0m                                 Traceback (most recent call last)",
      "\u001b[1;32m~\\AppData\\Local\\Temp\\ipykernel_17024\\2752079559.py\u001b[0m in \u001b[0;36m<module>\u001b[1;34m\u001b[0m\n\u001b[0;32m      1\u001b[0m \u001b[0ma_tuple\u001b[0m \u001b[1;33m=\u001b[0m \u001b[1;33m(\u001b[0m\u001b[1;36m3\u001b[0m\u001b[1;33m,\u001b[0m \u001b[1;36m5\u001b[0m\u001b[1;33m,\u001b[0m \u001b[1;33m(\u001b[0m\u001b[1;36m4\u001b[0m\u001b[1;33m,\u001b[0m \u001b[1;36m5\u001b[0m\u001b[1;33m)\u001b[0m\u001b[1;33m)\u001b[0m\u001b[1;33m\u001b[0m\u001b[1;33m\u001b[0m\u001b[0m\n\u001b[1;32m----> 2\u001b[1;33m \u001b[0ma_tuple\u001b[0m\u001b[1;33m[\u001b[0m\u001b[1;36m1\u001b[0m\u001b[1;33m]\u001b[0m \u001b[1;33m=\u001b[0m \u001b[1;34m'four'\u001b[0m\u001b[1;33m\u001b[0m\u001b[1;33m\u001b[0m\u001b[0m\n\u001b[0m",
      "\u001b[1;31mTypeError\u001b[0m: 'tuple' object does not support item assignment"
     ]
    }
   ],
   "source": [
    "a_tuple = (3, 5, (4, 5))\n",
    "a_tuple[1] = 'four'\n"
   ]
  },
  {
   "cell_type": "markdown",
   "id": "b1db46d3",
   "metadata": {
    "slideshow": {
     "slide_type": "slide"
    }
   },
   "source": [
    "Remember that just because you can mutate an object does not mean that you always should. "
   ]
  },
  {
   "cell_type": "markdown",
   "id": "6e91c6a2",
   "metadata": {
    "slideshow": {
     "slide_type": "slide"
    }
   },
   "source": [
    "Such actions are known as side effects. "
   ]
  },
  {
   "cell_type": "markdown",
   "id": "9163efb2",
   "metadata": {
    "slideshow": {
     "slide_type": "slide"
    }
   },
   "source": [
    "For example, when writing a function, any side effects should be explicitly communicated to the user in the function’s docu‐\n",
    "mentation or comments. "
   ]
  },
  {
   "cell_type": "markdown",
   "id": "38c4d7c4",
   "metadata": {
    "slideshow": {
     "slide_type": "slide"
    }
   },
   "source": [
    "If possible, I recommend trying to avoid side effects and favor immutability, even though there may be mutable objects involved."
   ]
  },
  {
   "cell_type": "markdown",
   "id": "17a481c2",
   "metadata": {
    "slideshow": {
     "slide_type": "slide"
    }
   },
   "source": [
    "# Scalar Types"
   ]
  },
  {
   "cell_type": "markdown",
   "id": "88edbbe9",
   "metadata": {
    "slideshow": {
     "slide_type": "slide"
    }
   },
   "source": [
    "Python along with its standard library has a small set of built-in types for handling\n",
    "numerical data, strings, boolean (True or False) values, and dates and time. These\n",
    "“single value” types are sometimes called scalar types and we refer to them in this\n",
    "book as scalars. See Table 2-4 for a list of the main scalar types. Date and time han‐\n",
    "dling will be discussed separately, as these are provided by the datetime module in\n",
    "the standard library.\n",
    "\n",
    "Página 56 del West Mckinney  "
   ]
  },
  {
   "cell_type": "code",
   "execution_count": null,
   "id": "6b312a86",
   "metadata": {
    "slideshow": {
     "slide_type": "slide"
    }
   },
   "outputs": [],
   "source": []
  },
  {
   "cell_type": "code",
   "execution_count": null,
   "id": "7d2fc204",
   "metadata": {},
   "outputs": [],
   "source": []
  },
  {
   "cell_type": "code",
   "execution_count": null,
   "id": "de21ce45",
   "metadata": {},
   "outputs": [],
   "source": []
  },
  {
   "cell_type": "markdown",
   "id": "523c4f55",
   "metadata": {
    "slideshow": {
     "slide_type": "slide"
    }
   },
   "source": [
    "# Geron Redes Neuronales secuenciales"
   ]
  },
  {
   "cell_type": "markdown",
   "id": "f35d2429",
   "metadata": {
    "slideshow": {
     "slide_type": "slide"
    }
   },
   "source": [
    "To test your installation, open a Python shell or a Jupyter notebook, then import TensorFlow and tf.keras and print their versions:\n"
   ]
  },
  {
   "cell_type": "code",
   "execution_count": 1,
   "id": "9ba11c0e",
   "metadata": {
    "slideshow": {
     "slide_type": "slide"
    }
   },
   "outputs": [],
   "source": [
    "import tensorflow as tf "
   ]
  },
  {
   "cell_type": "code",
   "execution_count": 5,
   "id": "f0323909",
   "metadata": {
    "slideshow": {
     "slide_type": "slide"
    }
   },
   "outputs": [],
   "source": [
    "from tensorflow import keras "
   ]
  },
  {
   "cell_type": "code",
   "execution_count": 6,
   "id": "8da3334b",
   "metadata": {
    "slideshow": {
     "slide_type": "slide"
    }
   },
   "outputs": [
    {
     "data": {
      "text/plain": [
       "'2.11.0'"
      ]
     },
     "execution_count": 6,
     "metadata": {},
     "output_type": "execute_result"
    }
   ],
   "source": [
    "tf.__version__"
   ]
  },
  {
   "cell_type": "code",
   "execution_count": 7,
   "id": "b6cfa66a",
   "metadata": {
    "slideshow": {
     "slide_type": "slide"
    }
   },
   "outputs": [
    {
     "data": {
      "text/plain": [
       "'2.11.0'"
      ]
     },
     "execution_count": 7,
     "metadata": {},
     "output_type": "execute_result"
    }
   ],
   "source": [
    "keras.__version__"
   ]
  },
  {
   "cell_type": "markdown",
   "id": "60a13c84",
   "metadata": {
    "slideshow": {
     "slide_type": "slide"
    }
   },
   "source": [
    "The second version is the version of the Keras API implemented by tf.keras. "
   ]
  },
  {
   "cell_type": "markdown",
   "id": "aa8dd828",
   "metadata": {
    "slideshow": {
     "slide_type": "slide"
    }
   },
   "source": [
    "Note that it ends with -tf, highlighting the fact that tf.keras implements the Keras API, plus some extra TensorFlow-specific features."
   ]
  },
  {
   "cell_type": "markdown",
   "id": "aaf0842b",
   "metadata": {
    "slideshow": {
     "slide_type": "slide"
    }
   },
   "source": [
    "Now let’s use tf.keras! We’ll start by building a simple image classifier"
   ]
  },
  {
   "cell_type": "markdown",
   "id": "81089b3a",
   "metadata": {
    "slideshow": {
     "slide_type": "slide"
    }
   },
   "source": [
    "## Building an Image Classifier Using the Sequential API"
   ]
  },
  {
   "cell_type": "markdown",
   "id": "ccb6c7b4",
   "metadata": {
    "slideshow": {
     "slide_type": "slide"
    }
   },
   "source": [
    "First, we need to load a dataset. In this chapter we will tackle Fashion MNIST, which is a drop-in replacement of MNIST (introduced in Chapter 3). "
   ]
  },
  {
   "cell_type": "markdown",
   "id": "e7893f21",
   "metadata": {
    "slideshow": {
     "slide_type": "slide"
    }
   },
   "source": [
    "It has the exact same format as MNIST (70,000 grayscale images of 28 × 28 pixels each, with 10 classes), but the images represent fashion items rather than handwritten digits, so each class is more diverse, and the problem turns out to be significantly more challenging than MNIST."
   ]
  },
  {
   "cell_type": "markdown",
   "id": "abcc3de0",
   "metadata": {
    "slideshow": {
     "slide_type": "slide"
    }
   },
   "source": [
    "For example, a simple linear model reaches about 92% accuracy on MNIST, but only about 83% on Fashion MNIST."
   ]
  },
  {
   "cell_type": "markdown",
   "id": "47816cd2",
   "metadata": {
    "slideshow": {
     "slide_type": "slide"
    }
   },
   "source": [
    "# Using Keras to load the dataset"
   ]
  },
  {
   "cell_type": "markdown",
   "id": "4e160575",
   "metadata": {
    "slideshow": {
     "slide_type": "slide"
    }
   },
   "source": [
    "Keras provides some utility functions to fetch and load common datasets, including MNIST, Fashion MNIST, and the California housing dataset we used in Chapter 2. Let’s load Fashion MNIST:"
   ]
  },
  {
   "cell_type": "code",
   "execution_count": 9,
   "id": "58275f13",
   "metadata": {
    "slideshow": {
     "slide_type": "slide"
    }
   },
   "outputs": [],
   "source": [
    "fashion_mnist = keras.datasets.fashion_mnist"
   ]
  },
  {
   "cell_type": "code",
   "execution_count": 10,
   "id": "ff4dacb2",
   "metadata": {
    "slideshow": {
     "slide_type": "slide"
    }
   },
   "outputs": [],
   "source": [
    "(X_train_full, y_train_full), (X_test, y_test) = fashion_mnist.load_data() "
   ]
  },
  {
   "cell_type": "markdown",
   "id": "caf51515",
   "metadata": {
    "slideshow": {
     "slide_type": "slide"
    }
   },
   "source": [
    "When loading MNIST or Fashion MNIST using Keras rather than ScikitLearn, one important difference is that every image is represented as a $28 \\times 28$ array rather than a 1D array of size 784. "
   ]
  },
  {
   "cell_type": "markdown",
   "id": "29a4e93b",
   "metadata": {
    "slideshow": {
     "slide_type": "slide"
    }
   },
   "source": [
    "Moreover, the pixel intensities are represented as integers (from 0 to 255) rather than floats (from 0.0 to 255.0). "
   ]
  },
  {
   "cell_type": "markdown",
   "id": "fe0fce3c",
   "metadata": {
    "slideshow": {
     "slide_type": "slide"
    }
   },
   "source": [
    "Let’s take a look at the shape and data type of the training set: "
   ]
  },
  {
   "cell_type": "code",
   "execution_count": 11,
   "id": "ee6ff808",
   "metadata": {
    "slideshow": {
     "slide_type": "slide"
    }
   },
   "outputs": [
    {
     "data": {
      "text/plain": [
       "(60000, 28, 28)"
      ]
     },
     "execution_count": 11,
     "metadata": {},
     "output_type": "execute_result"
    }
   ],
   "source": [
    "X_train_full.shape"
   ]
  },
  {
   "cell_type": "code",
   "execution_count": 12,
   "id": "4675c3be",
   "metadata": {
    "slideshow": {
     "slide_type": "slide"
    }
   },
   "outputs": [
    {
     "data": {
      "text/plain": [
       "dtype('uint8')"
      ]
     },
     "execution_count": 12,
     "metadata": {},
     "output_type": "execute_result"
    }
   ],
   "source": [
    "X_train_full.dtype"
   ]
  },
  {
   "cell_type": "markdown",
   "id": "7665f688",
   "metadata": {
    "slideshow": {
     "slide_type": "slide"
    }
   },
   "source": [
    "Note that the dataset is already split into a training set and a test set, but there is no validation set, so we’ll create one now. "
   ]
  },
  {
   "cell_type": "markdown",
   "id": "8a849a3d",
   "metadata": {
    "slideshow": {
     "slide_type": "slide"
    }
   },
   "source": [
    "Additionally, since we are going to train the neural network using Gradient Descent, we must scale the input features. "
   ]
  },
  {
   "cell_type": "markdown",
   "id": "ca26dd7f",
   "metadata": {
    "slideshow": {
     "slide_type": "slide"
    }
   },
   "source": [
    "For simplicity, we’ll scale the pixel intensities down to the 0–1 range by dividing them by 255.0 (this also converts them to floats):"
   ]
  },
  {
   "cell_type": "code",
   "execution_count": 13,
   "id": "f5b52b14",
   "metadata": {
    "slideshow": {
     "slide_type": "slide"
    }
   },
   "outputs": [],
   "source": [
    "X_valid, X_train = X_train_full[:5000]/255.0, X_train_full[5000:]/255.0 "
   ]
  },
  {
   "cell_type": "code",
   "execution_count": 14,
   "id": "28ef5895",
   "metadata": {
    "slideshow": {
     "slide_type": "slide"
    }
   },
   "outputs": [],
   "source": [
    "y_valid, y_train = y_train_full[:5000], y_train_full[5000:]"
   ]
  },
  {
   "cell_type": "markdown",
   "id": "b9c58b37",
   "metadata": {
    "slideshow": {
     "slide_type": "slide"
    }
   },
   "source": [
    "With MNIST, when the label is equal to 5, it means that the image represents the handwritten digit 5. Easy. "
   ]
  },
  {
   "cell_type": "markdown",
   "id": "11aed35d",
   "metadata": {
    "slideshow": {
     "slide_type": "slide"
    }
   },
   "source": [
    "For Fashion MNIST, however, we need the list of class names to know what we are dealing with:"
   ]
  },
  {
   "cell_type": "code",
   "execution_count": 16,
   "id": "9cdb834a",
   "metadata": {
    "slideshow": {
     "slide_type": "slide"
    }
   },
   "outputs": [],
   "source": [
    "class_names = ['T-shirt/top', 'Trouser', 'Pullover', 'Dress', 'Coat', \"Sandal\", \"Shirt\", \"Sneaker\", \"Bag\", \"Ankle boot\"] "
   ]
  },
  {
   "cell_type": "markdown",
   "id": "df0ba096",
   "metadata": {
    "slideshow": {
     "slide_type": "slide"
    }
   },
   "source": [
    "For example, the first image in the training set represents a coat:"
   ]
  },
  {
   "cell_type": "code",
   "execution_count": 17,
   "id": "024df637",
   "metadata": {
    "slideshow": {
     "slide_type": "slide"
    }
   },
   "outputs": [
    {
     "data": {
      "text/plain": [
       "'Coat'"
      ]
     },
     "execution_count": 17,
     "metadata": {},
     "output_type": "execute_result"
    }
   ],
   "source": [
    "class_names[y_train[0]]"
   ]
  },
  {
   "cell_type": "code",
   "execution_count": null,
   "id": "64d821d3",
   "metadata": {
    "slideshow": {
     "slide_type": "slide"
    }
   },
   "outputs": [],
   "source": []
  },
  {
   "cell_type": "code",
   "execution_count": null,
   "id": "23c133ae",
   "metadata": {},
   "outputs": [],
   "source": []
  },
  {
   "cell_type": "code",
   "execution_count": null,
   "id": "cc5f1624",
   "metadata": {},
   "outputs": [],
   "source": []
  },
  {
   "cell_type": "code",
   "execution_count": null,
   "id": "1e380981",
   "metadata": {
    "slideshow": {
     "slide_type": "slide"
    }
   },
   "outputs": [],
   "source": []
  },
  {
   "cell_type": "code",
   "execution_count": null,
   "id": "f3c8848a",
   "metadata": {},
   "outputs": [],
   "source": []
  },
  {
   "cell_type": "markdown",
   "id": "0dc337e8",
   "metadata": {},
   "source": [
    "## Referentes  \n",
    "\n"
   ]
  },
  {
   "cell_type": "code",
   "execution_count": null,
   "id": "5d45433c",
   "metadata": {},
   "outputs": [],
   "source": []
  }
 ],
 "metadata": {
  "celltoolbar": "Slideshow",
  "kernelspec": {
   "display_name": "Python 3 (ipykernel)",
   "language": "python",
   "name": "python3"
  },
  "language_info": {
   "codemirror_mode": {
    "name": "ipython",
    "version": 3
   },
   "file_extension": ".py",
   "mimetype": "text/x-python",
   "name": "python",
   "nbconvert_exporter": "python",
   "pygments_lexer": "ipython3",
   "version": "3.9.13"
  }
 },
 "nbformat": 4,
 "nbformat_minor": 5
}
