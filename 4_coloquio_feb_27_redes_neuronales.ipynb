{
 "cells": [
  {
   "cell_type": "markdown",
   "id": "6971681a",
   "metadata": {
    "slideshow": {
     "slide_type": "slide"
    }
   },
   "source": [
    "<table align=\"left\">\n",
    "  <td>\n",
    "    <a href=\"https://colab.research.google.com/github/marco-canas/12_coloquio_machine_learnig/blob/main/4_coloquio_feb_27_redes_neuronales.ipynb\" target=\"_parent\"><img src=\"https://colab.research.google.com/assets/colab-badge.svg\" alt=\"Open In Colab\"/></a>\n",
    "  </td>\n",
    "</table>"
   ]
  },
  {
   "cell_type": "markdown",
   "id": "43fef683",
   "metadata": {
    "slideshow": {
     "slide_type": "slide"
    }
   },
   "source": [
    "## [Video de apoyo a la presentación del coloquio 4 sobre redes neuronales]()  \n",
    "\n",
    "Siempre recordar el colocar actividades de \n",
    "* observar, \n",
    "* memorizar, \n",
    "* resumir, etc."
   ]
  },
  {
   "cell_type": "markdown",
   "id": "4f9cbb1a",
   "metadata": {
    "slideshow": {
     "slide_type": "slide"
    }
   },
   "source": [
    "# 4 Coloquio february 27. Neural Networks "
   ]
  },
  {
   "cell_type": "markdown",
   "id": "8d37af67",
   "metadata": {
    "slideshow": {
     "slide_type": "slide"
    }
   },
   "source": [
    "La ansiedad está en todas partes. Siempre lo ha estado. Sin emkbargo, en los últimos años ha dominado nuestras vidas como nunca lo había hecho antes. \n",
    "\n"
   ]
  },
  {
   "cell_type": "markdown",
   "id": "ba6e5c38",
   "metadata": {
    "slideshow": {
     "slide_type": "slide"
    }
   },
   "source": [
    "# Lectura a [Mckinney](https://udeaeduco-my.sharepoint.com/:b:/g/personal/marco_canas_udea_edu_co/EVbi5JIeBl9ErbiUnZfGe8YBhNTnZ8sxTK5hjIOPK4UpGw?e=J9FsPh)\n",
    "\n",
    "Página 54. "
   ]
  },
  {
   "cell_type": "markdown",
   "id": "998a1c4d",
   "metadata": {
    "slideshow": {
     "slide_type": "slide"
    }
   },
   "source": [
    "# Imports"
   ]
  },
  {
   "cell_type": "markdown",
   "id": "3a3c0ff7",
   "metadata": {},
   "source": [
    "In Python a module is simply a file with the .py extension containing Python code.  \n",
    "\n",
    "Suppose that we had the following module:"
   ]
  },
  {
   "cell_type": "markdown",
   "id": "3a7fca78",
   "metadata": {},
   "source": [
    "En Python, un módulo es simplemente un archivo con la extensión .py que contiene código de Python.\n",
    "\n",
    "Supongamos que tuviéramos el siguiente módulo:"
   ]
  },
  {
   "cell_type": "code",
   "execution_count": null,
   "id": "0a9c5e5c",
   "metadata": {},
   "outputs": [],
   "source": [
    "# some_module.py"
   ]
  },
  {
   "cell_type": "code",
   "execution_count": 1,
   "id": "74d7f486",
   "metadata": {},
   "outputs": [],
   "source": [
    "PI = 3.14159\n",
    "def f(x):\n",
    "    return x + 2\n",
    "def g(a, b):\n",
    "    return a + b"
   ]
  },
  {
   "cell_type": "markdown",
   "id": "ccf8c5c4",
   "metadata": {},
   "source": [
    "If we wanted to access the variables and functions defined in `some_module.py`, from another file in the same directory we could do:"
   ]
  },
  {
   "cell_type": "markdown",
   "id": "8f9a25fb",
   "metadata": {},
   "source": [
    "Si quisiéramos acceder a las variables y funciones definidas en `some_module.py`, desde otro archivo en el mismo directorio podríamos hacer:"
   ]
  },
  {
   "cell_type": "code",
   "execution_count": 2,
   "id": "ea47edbd",
   "metadata": {},
   "outputs": [],
   "source": [
    "import some_module\n",
    "result = some_module.f(5)\n",
    "pi = some_module.PI\n"
   ]
  },
  {
   "cell_type": "code",
   "execution_count": 3,
   "id": "058a2552",
   "metadata": {},
   "outputs": [
    {
     "data": {
      "text/plain": [
       "3.14159"
      ]
     },
     "execution_count": 3,
     "metadata": {},
     "output_type": "execute_result"
    }
   ],
   "source": [
    "pi"
   ]
  },
  {
   "cell_type": "code",
   "execution_count": 4,
   "id": "0dea3198",
   "metadata": {
    "slideshow": {
     "slide_type": "slide"
    }
   },
   "outputs": [
    {
     "data": {
      "text/plain": [
       "7"
      ]
     },
     "execution_count": 4,
     "metadata": {},
     "output_type": "execute_result"
    }
   ],
   "source": [
    "result"
   ]
  },
  {
   "cell_type": "markdown",
   "id": "dbef5920",
   "metadata": {
    "slideshow": {
     "slide_type": "slide"
    }
   },
   "source": [
    "## [Chapter 10 Introduction to artificial neural networks with Keras](https://github.com/ageron/handson-ml3/blob/main/10_neural_nets_with_keras.ipynb)"
   ]
  },
  {
   "cell_type": "markdown",
   "id": "f2adb5db",
   "metadata": {},
   "source": [
    "# Implementing MLPs with Keras \n",
    "## Building an image classifier using the secuencial API\n",
    "\n",
    "### Using keras to load the dataset"
   ]
  },
  {
   "cell_type": "markdown",
   "id": "2c1f3048",
   "metadata": {
    "slideshow": {
     "slide_type": "slide"
    }
   },
   "source": [
    "Let's start by loading the fashion MNIST dataset. Keras has a number of functions to load popular datasets in tf.keras.datasets. The dataset is already split for you between a training set (60,000 images) and a test set (10,000 images), but it can be useful to split the training set further to have a validation set. We'll use 55,000 images for training, and 5,000 for validation."
   ]
  },
  {
   "cell_type": "markdown",
   "id": "671bc1cf",
   "metadata": {
    "slideshow": {
     "slide_type": "slide"
    }
   },
   "source": [
    "Comencemos cargando el conjunto de datos MNIST de moda. Keras tiene una serie de funciones para cargar conjuntos de datos populares en tf.keras.datasets. El conjunto de datos ya está dividido entre un conjunto de entrenamiento (60 000 imágenes) y un conjunto de prueba (10 000 imágenes), pero puede ser útil dividir aún más el conjunto de entrenamiento para tener un conjunto de validación. Usaremos 55.000 imágenes para entrenamiento y 5.000 para validación."
   ]
  },
  {
   "cell_type": "code",
   "execution_count": 5,
   "id": "d5774aa0",
   "metadata": {
    "slideshow": {
     "slide_type": "slide"
    }
   },
   "outputs": [],
   "source": [
    "import tensorflow as tf \n",
    "fashion_mnist = tf.keras.datasets.fashion_mnist.load_data() "
   ]
  },
  {
   "cell_type": "code",
   "execution_count": 6,
   "id": "1e4d27ef",
   "metadata": {
    "slideshow": {
     "slide_type": "slide"
    }
   },
   "outputs": [],
   "source": [
    "(X_train_full, y_train_full), (X_test, y_test) = fashion_mnist "
   ]
  },
  {
   "cell_type": "code",
   "execution_count": 8,
   "id": "d1fd63d4",
   "metadata": {
    "slideshow": {
     "slide_type": "slide"
    }
   },
   "outputs": [],
   "source": [
    "X_train, y_train = X_train_full[:-5000], y_train_full[:-5000]\n",
    "X_valid, y_valid = X_train_full[-5000:], y_train_full[-5000:]"
   ]
  },
  {
   "cell_type": "markdown",
   "id": "3e17a9bd",
   "metadata": {},
   "source": [
    "The training set contains 60,000 grayscale images, each 28x28 pixels:"
   ]
  },
  {
   "cell_type": "markdown",
   "id": "70f4c4be",
   "metadata": {},
   "source": [
    "El conjunto de entrenamiento contiene 60.000 imágenes en escala de grises, cada una de 28x28 píxeles:"
   ]
  },
  {
   "cell_type": "code",
   "execution_count": null,
   "id": "2362f63b",
   "metadata": {},
   "outputs": [],
   "source": []
  },
  {
   "cell_type": "markdown",
   "id": "c69a0ccb",
   "metadata": {},
   "source": [
    "## La taxonomia de Bloom"
   ]
  },
  {
   "cell_type": "markdown",
   "id": "eb3c3269",
   "metadata": {},
   "source": [
    "1. Crear\n",
    "2. evaluar \n",
    "3. Analizar  \n",
    "4. "
   ]
  },
  {
   "cell_type": "code",
   "execution_count": null,
   "id": "b0596785",
   "metadata": {},
   "outputs": [],
   "source": []
  }
 ],
 "metadata": {
  "celltoolbar": "Slideshow",
  "kernelspec": {
   "display_name": "Python 3 (ipykernel)",
   "language": "python",
   "name": "python3"
  },
  "language_info": {
   "codemirror_mode": {
    "name": "ipython",
    "version": 3
   },
   "file_extension": ".py",
   "mimetype": "text/x-python",
   "name": "python",
   "nbconvert_exporter": "python",
   "pygments_lexer": "ipython3",
   "version": "3.9.13"
  }
 },
 "nbformat": 4,
 "nbformat_minor": 5
}
