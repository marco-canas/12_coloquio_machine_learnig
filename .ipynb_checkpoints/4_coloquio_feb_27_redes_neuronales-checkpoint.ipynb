{
 "cells": [
  {
   "cell_type": "markdown",
   "id": "e43c3256",
   "metadata": {
    "slideshow": {
     "slide_type": "slide"
    }
   },
   "source": [
    "<table align=\"left\">\n",
    "  <td>\n",
    "    <a href=\"https://colab.research.google.com/github/marco-canas/7_didactica_ciencia_datos/blob/main/propuesta/prop_invest/congreso_educaci_superior/flipped_learning.ipynb\" target=\"_parent\"><img src=\"https://colab.research.google.com/assets/colab-badge.svg\" alt=\"Open In Colab\"/></a>\n",
    "  </td>\n",
    "</table>"
   ]
  },
  {
   "cell_type": "markdown",
   "id": "baaa3939",
   "metadata": {
    "slideshow": {
     "slide_type": "slide"
    }
   },
   "source": [
    "## [Video de apoyo a la presentación del coloquio 4 sobre redes neuronales]()  \n",
    "\n",
    "Siempre recordad el colocar actividades de \n",
    "* observar, \n",
    "* memorizar, \n",
    "* resumir, etc."
   ]
  },
  {
   "cell_type": "markdown",
   "id": "87182797",
   "metadata": {
    "slideshow": {
     "slide_type": "slide"
    }
   },
   "source": [
    "# 4 Coloquio february 27. Neural Networks "
   ]
  },
  {
   "cell_type": "markdown",
   "id": "bc3112ca",
   "metadata": {},
   "source": [
    "La ansiedad está en todas partes. Siempre lo ha estado. Sin emkbargo, en los últimos años ha dominado nuestras vidas como nunca lo había hecho antes. \n",
    "\n"
   ]
  },
  {
   "cell_type": "markdown",
   "id": "26be91f2",
   "metadata": {},
   "source": [
    "# Lectura a [Mckinney]()\n",
    "\n",
    "Página 54. "
   ]
  },
  {
   "cell_type": "markdown",
   "id": "8db3f16a",
   "metadata": {},
   "source": [
    "# Imports"
   ]
  },
  {
   "cell_type": "markdown",
   "id": "e615a8a4",
   "metadata": {},
   "source": [
    "In Python a module is simply a file with the .py extension containing Python code.  \n",
    "\n",
    "Suppose that we had the following module:"
   ]
  },
  {
   "cell_type": "markdown",
   "id": "be8a3acf",
   "metadata": {},
   "source": [
    "En Python, un módulo es simplemente un archivo con la extensión .py que contiene código de Python.\n",
    "\n",
    "Supongamos que tuviéramos el siguiente módulo:"
   ]
  },
  {
   "cell_type": "code",
   "execution_count": null,
   "id": "47096120",
   "metadata": {},
   "outputs": [],
   "source": [
    "# some_module.py"
   ]
  },
  {
   "cell_type": "code",
   "execution_count": 1,
   "id": "11172332",
   "metadata": {},
   "outputs": [],
   "source": [
    "PI = 3.14159\n",
    "def f(x):\n",
    "    return x + 2\n",
    "def g(a, b):\n",
    "    return a + b"
   ]
  },
  {
   "cell_type": "markdown",
   "id": "6075f4a2",
   "metadata": {},
   "source": [
    "If we wanted to access the variables and functions defined in `some_module.py`, from another file in the same directory we could do:"
   ]
  },
  {
   "cell_type": "markdown",
   "id": "4268babc",
   "metadata": {},
   "source": [
    "Si quisiéramos acceder a las variables y funciones definidas en `some_module.py`, desde otro archivo en el mismo directorio podríamos hacer:"
   ]
  },
  {
   "cell_type": "code",
   "execution_count": 2,
   "id": "fcdeefbd",
   "metadata": {},
   "outputs": [],
   "source": [
    "import some_module\n",
    "result = some_module.f(5)\n",
    "pi = some_module.PI\n"
   ]
  },
  {
   "cell_type": "code",
   "execution_count": 3,
   "id": "b2dc8fc2",
   "metadata": {},
   "outputs": [
    {
     "data": {
      "text/plain": [
       "3.14159"
      ]
     },
     "execution_count": 3,
     "metadata": {},
     "output_type": "execute_result"
    }
   ],
   "source": [
    "pi"
   ]
  },
  {
   "cell_type": "code",
   "execution_count": 4,
   "id": "1ac24541",
   "metadata": {
    "slideshow": {
     "slide_type": "slide"
    }
   },
   "outputs": [
    {
     "data": {
      "text/plain": [
       "7"
      ]
     },
     "execution_count": 4,
     "metadata": {},
     "output_type": "execute_result"
    }
   ],
   "source": [
    "result"
   ]
  },
  {
   "cell_type": "markdown",
   "id": "e855b644",
   "metadata": {
    "slideshow": {
     "slide_type": "slide"
    }
   },
   "source": [
    "## [Chapter 10 Introduction to artificial neural networks with Keras](https://github.com/ageron/handson-ml3/blob/main/10_neural_nets_with_keras.ipynb)"
   ]
  },
  {
   "cell_type": "markdown",
   "id": "2411b0c9",
   "metadata": {},
   "source": [
    "# Implementing MLPs with Keras \n",
    "## Building an image classifier using the secuencial API\n",
    "\n",
    "### Using keras to load the dataset"
   ]
  },
  {
   "cell_type": "markdown",
   "id": "628b74da",
   "metadata": {
    "slideshow": {
     "slide_type": "slide"
    }
   },
   "source": [
    "Let's start by loading the fashion MNIST dataset. Keras has a number of functions to load popular datasets in tf.keras.datasets. The dataset is already split for you between a training set (60,000 images) and a test set (10,000 images), but it can be useful to split the training set further to have a validation set. We'll use 55,000 images for training, and 5,000 for validation."
   ]
  },
  {
   "cell_type": "markdown",
   "id": "97824aa9",
   "metadata": {
    "slideshow": {
     "slide_type": "slide"
    }
   },
   "source": [
    "Comencemos cargando el conjunto de datos MNIST de moda. Keras tiene una serie de funciones para cargar conjuntos de datos populares en tf.keras.datasets. El conjunto de datos ya está dividido entre un conjunto de entrenamiento (60 000 imágenes) y un conjunto de prueba (10 000 imágenes), pero puede ser útil dividir aún más el conjunto de entrenamiento para tener un conjunto de validación. Usaremos 55.000 imágenes para entrenamiento y 5.000 para validación."
   ]
  },
  {
   "cell_type": "code",
   "execution_count": 5,
   "id": "ce970eb7",
   "metadata": {
    "slideshow": {
     "slide_type": "slide"
    }
   },
   "outputs": [],
   "source": [
    "import tensorflow as tf \n",
    "fashion_mnist = tf.keras.datasets.fashion_mnist.load_data() "
   ]
  },
  {
   "cell_type": "code",
   "execution_count": 6,
   "id": "73c0b42c",
   "metadata": {
    "slideshow": {
     "slide_type": "slide"
    }
   },
   "outputs": [],
   "source": [
    "(X_train_full, y_train_full), (X_test, y_test) = fashion_mnist "
   ]
  },
  {
   "cell_type": "code",
   "execution_count": 8,
   "id": "6f90b4fa",
   "metadata": {
    "slideshow": {
     "slide_type": "slide"
    }
   },
   "outputs": [],
   "source": [
    "X_train, y_train = X_train_full[:-5000], y_train_full[:-5000]\n",
    "X_valid, y_valid = X_train_full[-5000:], y_train_full[-5000:]"
   ]
  },
  {
   "cell_type": "markdown",
   "id": "a60eb444",
   "metadata": {},
   "source": [
    "The training set contains 60,000 grayscale images, each 28x28 pixels:"
   ]
  },
  {
   "cell_type": "markdown",
   "id": "9627b622",
   "metadata": {},
   "source": [
    "El conjunto de entrenamiento contiene 60.000 imágenes en escala de grises, cada una de 28x28 píxeles:"
   ]
  },
  {
   "cell_type": "code",
   "execution_count": null,
   "id": "f3d838c5",
   "metadata": {},
   "outputs": [],
   "source": []
  },
  {
   "cell_type": "markdown",
   "id": "81a67f27",
   "metadata": {},
   "source": [
    "## La taxonomia de Bloom"
   ]
  },
  {
   "cell_type": "markdown",
   "id": "865aee2c",
   "metadata": {},
   "source": [
    "1. Crear\n",
    "2. evaluar \n",
    "3. Analizar  \n",
    "4. "
   ]
  },
  {
   "cell_type": "code",
   "execution_count": null,
   "id": "e299e082",
   "metadata": {},
   "outputs": [],
   "source": []
  }
 ],
 "metadata": {
  "celltoolbar": "Slideshow",
  "kernelspec": {
   "display_name": "Python 3 (ipykernel)",
   "language": "python",
   "name": "python3"
  },
  "language_info": {
   "codemirror_mode": {
    "name": "ipython",
    "version": 3
   },
   "file_extension": ".py",
   "mimetype": "text/x-python",
   "name": "python",
   "nbconvert_exporter": "python",
   "pygments_lexer": "ipython3",
   "version": "3.9.13"
  }
 },
 "nbformat": 4,
 "nbformat_minor": 5
}
