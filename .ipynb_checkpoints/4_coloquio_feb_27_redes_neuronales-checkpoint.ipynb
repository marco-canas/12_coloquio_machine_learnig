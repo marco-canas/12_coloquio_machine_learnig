{
 "cells": [
  {
   "cell_type": "markdown",
   "id": "57b4af99",
   "metadata": {
    "slideshow": {
     "slide_type": "slide"
    }
   },
   "source": [
    "<table align=\"left\">\n",
    "  <td>\n",
    "    <a href=\"https://colab.research.google.com/github/marco-canas/12_coloquio_machine_learnig/blob/main/4_coloquio_feb_27_redes_neuronales.ipynb\" target=\"_parent\"><img src=\"https://colab.research.google.com/assets/colab-badge.svg\" alt=\"Open In Colab\"/></a>\n",
    "  </td>\n",
    "</table>"
   ]
  },
  {
   "cell_type": "markdown",
   "id": "5714b5e2",
   "metadata": {
    "slideshow": {
     "slide_type": "slide"
    }
   },
   "source": [
    "## [Video de apoyo a la presentación del coloquio 4 sobre redes neuronales]()  \n",
    "\n",
    "Siempre recordar el colocar actividades de \n",
    "* observar, \n",
    "* memorizar, \n",
    "* resumir, etc."
   ]
  },
  {
   "cell_type": "markdown",
   "id": "7960f76d",
   "metadata": {
    "slideshow": {
     "slide_type": "slide"
    }
   },
   "source": [
    "# 4 Coloquio february 27. Neural Networks "
   ]
  },
  {
   "cell_type": "markdown",
   "id": "dd6c9792",
   "metadata": {
    "slideshow": {
     "slide_type": "slide"
    }
   },
   "source": [
    "La ansiedad está en todas partes. Siempre lo ha estado. Sin emkbargo, en los últimos años ha dominado nuestras vidas como nunca lo había hecho antes. \n",
    "\n"
   ]
  },
  {
   "cell_type": "markdown",
   "id": "7e6c7535",
   "metadata": {
    "slideshow": {
     "slide_type": "slide"
    }
   },
   "source": [
    "# Lectura a [Mckinney](https://udeaeduco-my.sharepoint.com/:b:/g/personal/marco_canas_udea_edu_co/EVbi5JIeBl9ErbiUnZfGe8YBhNTnZ8sxTK5hjIOPK4UpGw?e=J9FsPh)\n",
    "\n",
    "Página 54. "
   ]
  },
  {
   "cell_type": "markdown",
   "id": "68f1f642",
   "metadata": {
    "slideshow": {
     "slide_type": "slide"
    }
   },
   "source": [
    "# Imports"
   ]
  },
  {
   "cell_type": "markdown",
   "id": "992c4735",
   "metadata": {},
   "source": [
    "In Python a module is simply a file with the .py extension containing Python code.  \n",
    "\n",
    "Suppose that we had the following module:"
   ]
  },
  {
   "cell_type": "markdown",
   "id": "5cb6e51b",
   "metadata": {},
   "source": [
    "En Python, un módulo es simplemente un archivo con la extensión .py que contiene código de Python.\n",
    "\n",
    "Supongamos que tuviéramos el siguiente módulo:"
   ]
  },
  {
   "cell_type": "code",
   "execution_count": null,
   "id": "aa8e7ef8",
   "metadata": {},
   "outputs": [],
   "source": [
    "# some_module.py"
   ]
  },
  {
   "cell_type": "code",
   "execution_count": 1,
   "id": "4ed09b97",
   "metadata": {},
   "outputs": [],
   "source": [
    "PI = 3.14159\n",
    "def f(x):\n",
    "    return x + 2\n",
    "def g(a, b):\n",
    "    return a + b"
   ]
  },
  {
   "cell_type": "markdown",
   "id": "6e8dbe47",
   "metadata": {},
   "source": [
    "If we wanted to access the variables and functions defined in `some_module.py`, from another file in the same directory we could do:"
   ]
  },
  {
   "cell_type": "markdown",
   "id": "cb09542a",
   "metadata": {},
   "source": [
    "Si quisiéramos acceder a las variables y funciones definidas en `some_module.py`, desde otro archivo en el mismo directorio podríamos hacer:"
   ]
  },
  {
   "cell_type": "code",
   "execution_count": 2,
   "id": "01ff5f5a",
   "metadata": {},
   "outputs": [],
   "source": [
    "import some_module\n",
    "result = some_module.f(5)\n",
    "pi = some_module.PI\n"
   ]
  },
  {
   "cell_type": "code",
   "execution_count": 3,
   "id": "efc487dc",
   "metadata": {},
   "outputs": [
    {
     "data": {
      "text/plain": [
       "3.14159"
      ]
     },
     "execution_count": 3,
     "metadata": {},
     "output_type": "execute_result"
    }
   ],
   "source": [
    "pi"
   ]
  },
  {
   "cell_type": "code",
   "execution_count": 4,
   "id": "19af2790",
   "metadata": {
    "slideshow": {
     "slide_type": "slide"
    }
   },
   "outputs": [
    {
     "data": {
      "text/plain": [
       "7"
      ]
     },
     "execution_count": 4,
     "metadata": {},
     "output_type": "execute_result"
    }
   ],
   "source": [
    "result"
   ]
  },
  {
   "cell_type": "markdown",
   "id": "8f19b6f7",
   "metadata": {
    "slideshow": {
     "slide_type": "slide"
    }
   },
   "source": [
    "Or equivalently:"
   ]
  },
  {
   "cell_type": "code",
   "execution_count": 9,
   "id": "8c0ffa35",
   "metadata": {
    "slideshow": {
     "slide_type": "slide"
    }
   },
   "outputs": [],
   "source": [
    "from some_module import f, g, PI\n",
    "result = g(5, PI)"
   ]
  },
  {
   "cell_type": "markdown",
   "id": "8a925964",
   "metadata": {
    "slideshow": {
     "slide_type": "slide"
    }
   },
   "source": [
    "By using the as keyword you can give imports different variable names:"
   ]
  },
  {
   "cell_type": "code",
   "execution_count": 10,
   "id": "d10dcd4b",
   "metadata": {
    "slideshow": {
     "slide_type": "slide"
    }
   },
   "outputs": [],
   "source": [
    "import some_module as sm\n",
    "from some_module import PI as pi, g as gf\n",
    "r1 = sm.f(pi)\n",
    "r2 = gf(6, pi)"
   ]
  },
  {
   "cell_type": "markdown",
   "id": "08a20872",
   "metadata": {
    "slideshow": {
     "slide_type": "slide"
    }
   },
   "source": [
    "# Binary operators and comparisons"
   ]
  },
  {
   "cell_type": "markdown",
   "id": "fb3c6a1b",
   "metadata": {
    "slideshow": {
     "slide_type": "slide"
    }
   },
   "source": [
    "Most of the binary math operations and comparisons are as you might expect:"
   ]
  },
  {
   "cell_type": "code",
   "execution_count": 11,
   "id": "993408c1",
   "metadata": {
    "slideshow": {
     "slide_type": "slide"
    }
   },
   "outputs": [
    {
     "data": {
      "text/plain": [
       "-2"
      ]
     },
     "execution_count": 11,
     "metadata": {},
     "output_type": "execute_result"
    }
   ],
   "source": [
    "5 - 7\n"
   ]
  },
  {
   "cell_type": "code",
   "execution_count": null,
   "id": "1b5b5ebe",
   "metadata": {},
   "outputs": [],
   "source": []
  },
  {
   "cell_type": "markdown",
   "id": "b23d4340",
   "metadata": {
    "slideshow": {
     "slide_type": "slide"
    }
   },
   "source": [
    "## [Chapter 10 Introduction to artificial neural networks with Keras](https://github.com/ageron/handson-ml3/blob/main/10_neural_nets_with_keras.ipynb)"
   ]
  },
  {
   "cell_type": "markdown",
   "id": "823f8312",
   "metadata": {},
   "source": [
    "# Implementing MLPs with Keras \n",
    "## Building an image classifier using the secuencial API\n",
    "\n",
    "### Using keras to load the dataset"
   ]
  },
  {
   "cell_type": "markdown",
   "id": "bae262e2",
   "metadata": {
    "slideshow": {
     "slide_type": "slide"
    }
   },
   "source": [
    "Let's start by loading the fashion MNIST dataset. Keras has a number of functions to load popular datasets in tf.keras.datasets. The dataset is already split for you between a training set (60,000 images) and a test set (10,000 images), but it can be useful to split the training set further to have a validation set. We'll use 55,000 images for training, and 5,000 for validation."
   ]
  },
  {
   "cell_type": "markdown",
   "id": "ccbf279e",
   "metadata": {
    "slideshow": {
     "slide_type": "slide"
    }
   },
   "source": [
    "Comencemos cargando el conjunto de datos MNIST de moda. Keras tiene una serie de funciones para cargar conjuntos de datos populares en tf.keras.datasets. El conjunto de datos ya está dividido entre un conjunto de entrenamiento (60 000 imágenes) y un conjunto de prueba (10 000 imágenes), pero puede ser útil dividir aún más el conjunto de entrenamiento para tener un conjunto de validación. Usaremos 55.000 imágenes para entrenamiento y 5.000 para validación."
   ]
  },
  {
   "cell_type": "code",
   "execution_count": 5,
   "id": "ddbbd560",
   "metadata": {
    "slideshow": {
     "slide_type": "slide"
    }
   },
   "outputs": [],
   "source": [
    "import tensorflow as tf \n",
    "fashion_mnist = tf.keras.datasets.fashion_mnist.load_data() "
   ]
  },
  {
   "cell_type": "code",
   "execution_count": 6,
   "id": "b165babe",
   "metadata": {
    "slideshow": {
     "slide_type": "slide"
    }
   },
   "outputs": [],
   "source": [
    "(X_train_full, y_train_full), (X_test, y_test) = fashion_mnist "
   ]
  },
  {
   "cell_type": "code",
   "execution_count": 8,
   "id": "48adc3f7",
   "metadata": {
    "slideshow": {
     "slide_type": "slide"
    }
   },
   "outputs": [],
   "source": [
    "X_train, y_train = X_train_full[:-5000], y_train_full[:-5000]\n",
    "X_valid, y_valid = X_train_full[-5000:], y_train_full[-5000:]"
   ]
  },
  {
   "cell_type": "markdown",
   "id": "2f5f946d",
   "metadata": {},
   "source": [
    "The training set contains 60,000 grayscale images, each 28x28 pixels:"
   ]
  },
  {
   "cell_type": "markdown",
   "id": "dc5cc9e9",
   "metadata": {},
   "source": [
    "El conjunto de entrenamiento contiene 60.000 imágenes en escala de grises, cada una de 28x28 píxeles:"
   ]
  },
  {
   "cell_type": "code",
   "execution_count": null,
   "id": "b2e333ed",
   "metadata": {},
   "outputs": [],
   "source": []
  },
  {
   "cell_type": "markdown",
   "id": "afaa61bc",
   "metadata": {},
   "source": [
    "## La taxonomia de Bloom"
   ]
  },
  {
   "cell_type": "markdown",
   "id": "11b5436e",
   "metadata": {},
   "source": [
    "1. Crear\n",
    "2. evaluar \n",
    "3. Analizar  \n",
    "4. "
   ]
  },
  {
   "cell_type": "code",
   "execution_count": null,
   "id": "878335b5",
   "metadata": {},
   "outputs": [],
   "source": []
  }
 ],
 "metadata": {
  "celltoolbar": "Slideshow",
  "kernelspec": {
   "display_name": "Python 3 (ipykernel)",
   "language": "python",
   "name": "python3"
  },
  "language_info": {
   "codemirror_mode": {
    "name": "ipython",
    "version": 3
   },
   "file_extension": ".py",
   "mimetype": "text/x-python",
   "name": "python",
   "nbconvert_exporter": "python",
   "pygments_lexer": "ipython3",
   "version": "3.9.13"
  }
 },
 "nbformat": 4,
 "nbformat_minor": 5
}
